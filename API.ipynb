{
 "cells": [
  {
   "cell_type": "code",
   "execution_count": 22,
   "id": "5d22f74b",
   "metadata": {},
   "outputs": [
    {
     "data": {
      "text/html": [
       "<div>\n",
       "<style scoped>\n",
       "    .dataframe tbody tr th:only-of-type {\n",
       "        vertical-align: middle;\n",
       "    }\n",
       "\n",
       "    .dataframe tbody tr th {\n",
       "        vertical-align: top;\n",
       "    }\n",
       "\n",
       "    .dataframe thead th {\n",
       "        text-align: right;\n",
       "    }\n",
       "</style>\n",
       "<table border=\"1\" class=\"dataframe\">\n",
       "  <thead>\n",
       "    <tr style=\"text-align: right;\">\n",
       "      <th></th>\n",
       "      <th>구분</th>\n",
       "      <th>행정구역코드</th>\n",
       "      <th>1단계</th>\n",
       "      <th>2단계</th>\n",
       "      <th>3단계</th>\n",
       "      <th>격자 X</th>\n",
       "      <th>격자 Y</th>\n",
       "      <th>경도(시)</th>\n",
       "      <th>경도(분)</th>\n",
       "      <th>경도(초)</th>\n",
       "      <th>위도(시)</th>\n",
       "      <th>위도(분)</th>\n",
       "      <th>위도(초)</th>\n",
       "      <th>경도(초/100)</th>\n",
       "      <th>위도(초/100)</th>\n",
       "      <th>위치업데이트</th>\n",
       "    </tr>\n",
       "  </thead>\n",
       "  <tbody>\n",
       "    <tr>\n",
       "      <th>0</th>\n",
       "      <td>kor</td>\n",
       "      <td>1100000000</td>\n",
       "      <td>서울특별시</td>\n",
       "      <td>NaN</td>\n",
       "      <td>NaN</td>\n",
       "      <td>60</td>\n",
       "      <td>127</td>\n",
       "      <td>126</td>\n",
       "      <td>58</td>\n",
       "      <td>48.03</td>\n",
       "      <td>37</td>\n",
       "      <td>33</td>\n",
       "      <td>48.85</td>\n",
       "      <td>126.980008</td>\n",
       "      <td>37.563569</td>\n",
       "      <td>NaN</td>\n",
       "    </tr>\n",
       "    <tr>\n",
       "      <th>1</th>\n",
       "      <td>kor</td>\n",
       "      <td>1111000000</td>\n",
       "      <td>서울특별시</td>\n",
       "      <td>종로구</td>\n",
       "      <td>NaN</td>\n",
       "      <td>60</td>\n",
       "      <td>127</td>\n",
       "      <td>126</td>\n",
       "      <td>58</td>\n",
       "      <td>53.91</td>\n",
       "      <td>37</td>\n",
       "      <td>34</td>\n",
       "      <td>13.36</td>\n",
       "      <td>126.981642</td>\n",
       "      <td>37.570378</td>\n",
       "      <td>NaN</td>\n",
       "    </tr>\n",
       "    <tr>\n",
       "      <th>2</th>\n",
       "      <td>kor</td>\n",
       "      <td>1111051500</td>\n",
       "      <td>서울특별시</td>\n",
       "      <td>종로구</td>\n",
       "      <td>청운효자동</td>\n",
       "      <td>60</td>\n",
       "      <td>127</td>\n",
       "      <td>126</td>\n",
       "      <td>58</td>\n",
       "      <td>14.35</td>\n",
       "      <td>37</td>\n",
       "      <td>35</td>\n",
       "      <td>2.89</td>\n",
       "      <td>126.970652</td>\n",
       "      <td>37.584137</td>\n",
       "      <td>NaN</td>\n",
       "    </tr>\n",
       "  </tbody>\n",
       "</table>\n",
       "</div>"
      ],
      "text/plain": [
       "    구분      행정구역코드    1단계  2단계    3단계  격자 X  격자 Y  경도(시)  경도(분)  경도(초)  위도(시)  \\\n",
       "0  kor  1100000000  서울특별시  NaN    NaN    60   127    126     58  48.03     37   \n",
       "1  kor  1111000000  서울특별시  종로구    NaN    60   127    126     58  53.91     37   \n",
       "2  kor  1111051500  서울특별시  종로구  청운효자동    60   127    126     58  14.35     37   \n",
       "\n",
       "   위도(분)  위도(초)   경도(초/100)  위도(초/100)  위치업데이트  \n",
       "0     33  48.85  126.980008  37.563569     NaN  \n",
       "1     34  13.36  126.981642  37.570378     NaN  \n",
       "2     35   2.89  126.970652  37.584137     NaN  "
      ]
     },
     "execution_count": 22,
     "metadata": {},
     "output_type": "execute_result"
    }
   ],
   "source": [
    "from datetime import datetime, timedelta\n",
    "import json\n",
    "import pandas as pd\n",
    "from bisect import bisect_left\n",
    "data = pd.read_excel('./기상청41_단기예보 조회서비스_오픈API활용가이드_241128/기상청41_단기예보 조회서비스_오픈API활용가이드_격자_위경도(2411).xlsx')\n",
    "data.head(3)\n"
   ]
  },
  {
   "cell_type": "code",
   "execution_count": 26,
   "id": "c2964612",
   "metadata": {},
   "outputs": [],
   "source": [
    "serviceKey = \"SLnUCvSqwv%2FeT7pxQ2NFc2etMr8%2B7HLq1zXs6Djr1%2BXDUA%2F4YQvKK7C3nhGjIjOX0Vs42IoiIg%2FEQgHpcP371w%3D%3D\" # 본인의 서비스 키 입력\n",
    "# --> 날씨를 알고 싶은 시간 입력\n",
    "date = (datetime.today() - timedelta(hours=3))\n",
    "base_date = date.strftime(\"%Y%m%d\") # 발표 일자\n",
    "base_time = date.strftime(\"%H00\") # 발표 시간\n",
    "nx = '60' # 예보 지점 x좌표\n",
    "ny = '127' # 예보 지점 y좌표"
   ]
  },
  {
   "cell_type": "code",
   "execution_count": null,
   "id": "cec26de7",
   "metadata": {},
   "outputs": [],
   "source": [
    "time_list = [\"0200\", \"0500\", \"0800\", \"1100\", \"1400\", \"1700\", \"2000\", \"2300\"]\n",
    "# lower_bound\n",
    "base_time = time_list[bisect_left(time_list, date.strftime(\"%H00\"))]"
   ]
  },
  {
   "cell_type": "code",
   "execution_count": 28,
   "id": "96f76bb8",
   "metadata": {},
   "outputs": [
    {
     "data": {
      "text/plain": [
       "'1700'"
      ]
     },
     "execution_count": 28,
     "metadata": {},
     "output_type": "execute_result"
    }
   ],
   "source": [
    "base_time"
   ]
  },
  {
   "cell_type": "code",
   "execution_count": 110,
   "id": "e1188b61",
   "metadata": {},
   "outputs": [
    {
     "name": "stdout",
     "output_type": "stream",
     "text": [
      "http://apis.data.go.kr/1360000/VilageFcstInfoService_2.0/getVilageFcst?serviceKey=SLnUCvSqwv%2FeT7pxQ2NFc2etMr8%2B7HLq1zXs6Djr1%2BXDUA%2F4YQvKK7C3nhGjIjOX0Vs42IoiIg%2FEQgHpcP371w%3D%3D&numOfRows=14&pageNo=72&dataType=json&base_date=20250605&base_time=1700&nx=60&ny=127\n"
     ]
    }
   ],
   "source": [
    "# url\n",
    "#url = \"https://apis.data.go.kr/1360000/VilageFcstInfoService_2.0\"\n",
    "#params = {\"serviceKey\":\"SLnUCvSqwv/eT7pxQ2NFc2etMr8+7HLq1zXs6Djr1+XDUA/4YQvKK7C3nhGjIjOX0Vs42IoiIg/EQgHpcP371w==\",\"numOfRows\":\"1000\",\"pageNo\":\"1\",\"dataType\":\"JSON\",\"base_date\":input_date,\"base_time\":input_time,\"nx\":nx,\"ny\":ny}\n",
    "url = f\"http://apis.data.go.kr/1360000/VilageFcstInfoService_2.0/getVilageFcst?serviceKey={serviceKey}&numOfRows=14&pageNo=72&dataType=json&base_date={base_date}&base_time={base_time}&nx={nx}&ny={ny}\"\n",
    "print(url)"
   ]
  },
  {
   "cell_type": "code",
   "execution_count": 111,
   "id": "1b02f80c",
   "metadata": {},
   "outputs": [],
   "source": [
    "# url로 API return값 요청\n",
    "import requests\n",
    "\n",
    "requests.get(url)\n",
    "response = requests.get(url)\n",
    "res = json.loads(response.text)"
   ]
  },
  {
   "cell_type": "code",
   "execution_count": 112,
   "id": "3699c21c",
   "metadata": {},
   "outputs": [
    {
     "data": {
      "text/plain": [
       "{'response': {'header': {'resultCode': '00', 'resultMsg': 'NORMAL_SERVICE'},\n",
       "  'body': {'dataType': 'JSON',\n",
       "   'items': {'item': [{'baseDate': '20250605',\n",
       "      'baseTime': '1700',\n",
       "      'category': 'VEC',\n",
       "      'fcstDate': '20250609',\n",
       "      'fcstTime': '1200',\n",
       "      'fcstValue': '139',\n",
       "      'nx': 60,\n",
       "      'ny': 127},\n",
       "     {'baseDate': '20250605',\n",
       "      'baseTime': '1700',\n",
       "      'category': 'WSD',\n",
       "      'fcstDate': '20250609',\n",
       "      'fcstTime': '1200',\n",
       "      'fcstValue': '1',\n",
       "      'nx': 60,\n",
       "      'ny': 127},\n",
       "     {'baseDate': '20250605',\n",
       "      'baseTime': '1700',\n",
       "      'category': 'SKY',\n",
       "      'fcstDate': '20250609',\n",
       "      'fcstTime': '1200',\n",
       "      'fcstValue': '1',\n",
       "      'nx': 60,\n",
       "      'ny': 127},\n",
       "     {'baseDate': '20250605',\n",
       "      'baseTime': '1700',\n",
       "      'category': 'PTY',\n",
       "      'fcstDate': '20250609',\n",
       "      'fcstTime': '1200',\n",
       "      'fcstValue': '0',\n",
       "      'nx': 60,\n",
       "      'ny': 127},\n",
       "     {'baseDate': '20250605',\n",
       "      'baseTime': '1700',\n",
       "      'category': 'POP',\n",
       "      'fcstDate': '20250609',\n",
       "      'fcstTime': '1200',\n",
       "      'fcstValue': '0',\n",
       "      'nx': 60,\n",
       "      'ny': 127},\n",
       "     {'baseDate': '20250605',\n",
       "      'baseTime': '1700',\n",
       "      'category': 'WAV',\n",
       "      'fcstDate': '20250609',\n",
       "      'fcstTime': '1200',\n",
       "      'fcstValue': '-999',\n",
       "      'nx': 60,\n",
       "      'ny': 127},\n",
       "     {'baseDate': '20250605',\n",
       "      'baseTime': '1700',\n",
       "      'category': 'PCP',\n",
       "      'fcstDate': '20250609',\n",
       "      'fcstTime': '1200',\n",
       "      'fcstValue': '0',\n",
       "      'nx': 60,\n",
       "      'ny': 127},\n",
       "     {'baseDate': '20250605',\n",
       "      'baseTime': '1700',\n",
       "      'category': 'REH',\n",
       "      'fcstDate': '20250609',\n",
       "      'fcstTime': '1200',\n",
       "      'fcstValue': '55',\n",
       "      'nx': 60,\n",
       "      'ny': 127},\n",
       "     {'baseDate': '20250605',\n",
       "      'baseTime': '1700',\n",
       "      'category': 'SNO',\n",
       "      'fcstDate': '20250609',\n",
       "      'fcstTime': '1200',\n",
       "      'fcstValue': '0',\n",
       "      'nx': 60,\n",
       "      'ny': 127},\n",
       "     {'baseDate': '20250605',\n",
       "      'baseTime': '1700',\n",
       "      'category': 'TMP',\n",
       "      'fcstDate': '20250609',\n",
       "      'fcstTime': '1500',\n",
       "      'fcstValue': '30',\n",
       "      'nx': 60,\n",
       "      'ny': 127},\n",
       "     {'baseDate': '20250605',\n",
       "      'baseTime': '1700',\n",
       "      'category': 'UUU',\n",
       "      'fcstDate': '20250609',\n",
       "      'fcstTime': '1500',\n",
       "      'fcstValue': '1',\n",
       "      'nx': 60,\n",
       "      'ny': 127},\n",
       "     {'baseDate': '20250605',\n",
       "      'baseTime': '1700',\n",
       "      'category': 'VVV',\n",
       "      'fcstDate': '20250609',\n",
       "      'fcstTime': '1500',\n",
       "      'fcstValue': '1.5',\n",
       "      'nx': 60,\n",
       "      'ny': 127},\n",
       "     {'baseDate': '20250605',\n",
       "      'baseTime': '1700',\n",
       "      'category': 'VEC',\n",
       "      'fcstDate': '20250609',\n",
       "      'fcstTime': '1500',\n",
       "      'fcstValue': '214',\n",
       "      'nx': 60,\n",
       "      'ny': 127},\n",
       "     {'baseDate': '20250605',\n",
       "      'baseTime': '1700',\n",
       "      'category': 'WSD',\n",
       "      'fcstDate': '20250609',\n",
       "      'fcstTime': '1500',\n",
       "      'fcstValue': '1',\n",
       "      'nx': 60,\n",
       "      'ny': 127}]},\n",
       "   'pageNo': 72,\n",
       "   'numOfRows': 14,\n",
       "   'totalCount': 1052}}}"
      ]
     },
     "execution_count": 112,
     "metadata": {},
     "output_type": "execute_result"
    }
   ],
   "source": [
    "res"
   ]
  },
  {
   "cell_type": "code",
   "execution_count": 6,
   "id": "69603b5c",
   "metadata": {},
   "outputs": [
    {
     "ename": "KeyError",
     "evalue": "'body'",
     "output_type": "error",
     "traceback": [
      "\u001b[31m---------------------------------------------------------------------------\u001b[39m",
      "\u001b[31mKeyError\u001b[39m                                  Traceback (most recent call last)",
      "\u001b[36mCell\u001b[39m\u001b[36m \u001b[39m\u001b[32mIn[6]\u001b[39m\u001b[32m, line 1\u001b[39m\n\u001b[32m----> \u001b[39m\u001b[32m1\u001b[39m \u001b[43mres\u001b[49m\u001b[43m[\u001b[49m\u001b[33;43m'\u001b[39;49m\u001b[33;43mresponse\u001b[39;49m\u001b[33;43m'\u001b[39;49m\u001b[43m]\u001b[49m\u001b[43m[\u001b[49m\u001b[33;43m'\u001b[39;49m\u001b[33;43mbody\u001b[39;49m\u001b[33;43m'\u001b[39;49m\u001b[43m]\u001b[49m[\u001b[33m'\u001b[39m\u001b[33mitems\u001b[39m\u001b[33m'\u001b[39m][\u001b[33m'\u001b[39m\u001b[33mitem\u001b[39m\u001b[33m'\u001b[39m]\n",
      "\u001b[31mKeyError\u001b[39m: 'body'"
     ]
    }
   ],
   "source": [
    "res['response']['body']['items']['item']"
   ]
  },
  {
   "cell_type": "code",
   "execution_count": 33,
   "id": "0ce52b80",
   "metadata": {},
   "outputs": [
    {
     "name": "stdout",
     "output_type": "stream",
     "text": [
      "{'0000': {'TMP': '17', 'UUU': '-1.1', 'VVV': '1.5', 'VEC': '141', 'WSD': '1.9', 'SKY': '1', 'PTY': '0', 'POP': '0', 'WAV': '-999', 'PCP': '강수없음', 'REH': '55', 'SNO': '적설없음'}, '0100': {'TMP': '16', 'UUU': '-1.8', 'VVV': '2.4', 'VEC': '142', 'WSD': '3', 'SKY': '1', 'PTY': '0', 'POP': '0', 'WAV': '-999', 'PCP': '강수없음', 'REH': '55', 'SNO': '적설없음'}, '0200': {'TMP': '16', 'UUU': '-1.6', 'VVV': '2.3', 'VEC': '145', 'WSD': '2.9', 'SKY': '1', 'PTY': '0', 'POP': '0', 'WAV': '-999', 'PCP': '강수없음', 'REH': '60', 'SNO': '적설없음'}, '0300': {'TMP': '15', 'UUU': '-1.7', 'VVV': '2', 'VEC': '139', 'WSD': '2.7', 'SKY': '1', 'PTY': '0', 'POP': '0', 'WAV': '-999', 'PCP': '강수없음', 'REH': '55', 'SNO': '적설없음'}, '0400': {'TMP': '15', 'UUU': '-2', 'VVV': '2.1', 'VEC': '135', 'WSD': '3', 'SKY': '1', 'PTY': '0', 'POP': '0', 'WAV': '-999', 'PCP': '강수없음', 'REH': '60', 'SNO': '적설없음'}, '0500': {'TMP': '14', 'UUU': '-2.2', 'VVV': '2.4', 'VEC': '136', 'WSD': '3.3', 'SKY': '1', 'PTY': '0', 'POP': '0', 'WAV': '-999', 'PCP': '강수없음', 'REH': '50', 'SNO': '적설없음'}, '0600': {'TMP': '14', 'UUU': '-2', 'VVV': '2.1', 'VEC': '135', 'WSD': '3', 'SKY': '4', 'PTY': '0', 'POP': '30', 'WAV': '-999', 'PCP': '강수없음', 'REH': '55', 'SNO': '적설없음', 'TMN': '14.0'}, '0700': {'TMP': '14', 'UUU': '-2.5', 'VVV': '3.3', 'VEC': '141', 'WSD': '4.2', 'SKY': '4', 'PTY': '0', 'POP': '30', 'WAV': '-999', 'PCP': '강수없음', 'REH': '55', 'SNO': '적설없음'}, '0800': {'TMP': '16', 'UUU': '-1.7', 'VVV': '3.4', 'VEC': '152', 'WSD': '3.8', 'SKY': '4', 'PTY': '0', 'POP': '30', 'WAV': '-999', 'PCP': '강수없음', 'REH': '55', 'SNO': '적설없음'}, '0900': {'TMP': '17', 'UUU': '-1', 'VVV': '4.4', 'VEC': '166', 'WSD': '4.6', 'SKY': '4', 'PTY': '1', 'POP': '60', 'WAV': '-999', 'PCP': '2.0mm', 'REH': '60'}}\n"
     ]
    }
   ],
   "source": [
    "informations = dict()\n",
    "for items in res['response']['body']['items']['item'] :\n",
    "    cate = items['category']\n",
    "    fcstTime = items['fcstTime']\n",
    "    fcstValue = items['fcstValue']\n",
    "    temp = dict()\n",
    "    temp[cate] = fcstValue\n",
    "    \n",
    "    if fcstTime not in informations.keys() :\n",
    "        informations[fcstTime] = dict()\n",
    "#     print(items['category'], items['fcstTime'], items['fcstValue'])\n",
    "#     print(informations[fcstTime])\n",
    "    informations[fcstTime][cate] = fcstValue\n",
    "\n",
    "print(informations)"
   ]
  },
  {
   "cell_type": "code",
   "execution_count": 34,
   "id": "d91eeca3",
   "metadata": {},
   "outputs": [
    {
     "data": {
      "text/plain": [
       "'N'"
      ]
     },
     "execution_count": 34,
     "metadata": {},
     "output_type": "execute_result"
    }
   ],
   "source": [
    "deg_code = {0 : 'N', 360 : 'N', 180 : 'S', 270 : 'W', 90 : 'E', 22.5 :'NNE',\n",
    "           45 : 'NE', 67.5 : 'ENE', 112.5 : 'ESE', 135 : 'SE', 157.5 : 'SSE',\n",
    "           202.5 : 'SSW', 225 : 'SW', 247.5 : 'WSW', 292.5 : 'WNW', 315 : 'NW',\n",
    "           337.5 : 'NNW'}\n",
    "\n",
    "def deg_to_dir(deg) :\n",
    "    close_dir = ''\n",
    "    min_abs = 360\n",
    "    if deg not in deg_code.keys() :\n",
    "        for key in deg_code.keys() :\n",
    "            if abs(key - deg) < min_abs :\n",
    "                min_abs = abs(key - deg)\n",
    "                close_dir = deg_code[key]\n",
    "    else : \n",
    "        close_dir = deg_code[deg]\n",
    "    return close_dir\n",
    "deg_to_dir(0)"
   ]
  },
  {
   "cell_type": "code",
   "execution_count": 35,
   "id": "3a8d55d7",
   "metadata": {},
   "outputs": [
    {
     "ename": "KeyError",
     "evalue": "'RN1'",
     "output_type": "error",
     "traceback": [
      "\u001b[31m---------------------------------------------------------------------------\u001b[39m",
      "\u001b[31mKeyError\u001b[39m                                  Traceback (most recent call last)",
      "\u001b[36mCell\u001b[39m\u001b[36m \u001b[39m\u001b[32mIn[35]\u001b[39m\u001b[32m, line 23\u001b[39m\n\u001b[32m     21\u001b[39m         template += pty_temp\n\u001b[32m     22\u001b[39m         \u001b[38;5;66;03m# 강수 있는 경우\u001b[39;00m\n\u001b[32m---> \u001b[39m\u001b[32m23\u001b[39m         \u001b[38;5;28;01mif\u001b[39;00m \u001b[43mval\u001b[49m\u001b[43m[\u001b[49m\u001b[33;43m'\u001b[39;49m\u001b[33;43mRN1\u001b[39;49m\u001b[33;43m'\u001b[39;49m\u001b[43m]\u001b[49m != \u001b[33m'\u001b[39m\u001b[33m강수없음\u001b[39m\u001b[33m'\u001b[39m :\n\u001b[32m     24\u001b[39m             \u001b[38;5;66;03m# RN1 1시간 강수량 \u001b[39;00m\n\u001b[32m     25\u001b[39m             rn1_temp = val[\u001b[33m'\u001b[39m\u001b[33mRN1\u001b[39m\u001b[33m'\u001b[39m]\n\u001b[32m     26\u001b[39m \u001b[38;5;66;03m#             print(\"강수량(1시간당) :\",rn1_temp)\u001b[39;00m\n",
      "\u001b[31mKeyError\u001b[39m: 'RN1'"
     ]
    }
   ],
   "source": [
    "pyt_code = {0 : '강수 없음', 1 : '비', 2 : '비/눈', 3 : '눈', 5 : '빗방울', 6 : '진눈깨비', 7 : '눈날림'}\n",
    "sky_code = {1 : '맑음', 3 : '구름많음', 4 : '흐림'}\n",
    "\n",
    "\n",
    "for key, val in zip(informations.keys(), informations.values()) :\n",
    "#     print(key, val)\n",
    "    # val['LGT'] -- 낙뢰 \n",
    "    template = f\"\"\"{base_date[:4]}년 {base_date[4:6]}월 {base_date[-2:]}일 {key[:2]}시 {key[2:]}분 {(int(nx), int(ny))} 지역의 날씨는 \"\"\" \n",
    "    \n",
    "    \n",
    "    # 맑음(1), 구름많음(3), 흐림(4)\n",
    "    if val['SKY'] :\n",
    "        sky_temp = sky_code[int(val['SKY'])]\n",
    "#         print(\"하늘 :\", sky_temp)\n",
    "        template += sky_temp + \" \"\n",
    "    \n",
    "    # (초단기) 없음(0), 비(1), 비/눈(2), 눈(3), 빗방울(5), 빗방울눈날림(6), 눈날림(7)\n",
    "    if val['PTY'] :\n",
    "        pty_temp = pyt_code[int(val['PTY'])]\n",
    "#         print(\"강수 여부 :\",pty_temp)\n",
    "        template += pty_temp\n",
    "        # 강수 있는 경우\n",
    "        if val['RN1'] != '강수없음' :\n",
    "            # RN1 1시간 강수량 \n",
    "            rn1_temp = val['RN1']\n",
    "#             print(\"강수량(1시간당) :\",rn1_temp)\n",
    "            template += f\"시간당 {rn1_temp}mm \"\n",
    "    \n",
    "    # 기온\n",
    "    if val['T1H'] :\n",
    "        t1h_temp = float(val['T1H'])\n",
    "#         print(f\"기온 : {t1h_temp}℃\")\n",
    "        template += f\" 기온 {t1h_temp}℃ \"\n",
    "    # 습도\n",
    "    if val['REH'] :\n",
    "        reh_temp = float(val['REH'])\n",
    "#         print(f\"습도 : {reh_temp}%\")\n",
    "        template += f\"습도 {reh_temp}% \"\n",
    "    # val['UUU'] -- 바람\n",
    "    \n",
    "    # val['VVV'] -- 바람\n",
    "    \n",
    "    # 풍향/ 풍속\n",
    "    if val['VEC'] and val['WSD']:\n",
    "        vec_temp = deg_to_dir(float(val['VEC']))\n",
    "        wsd_temp = val['WSD']\n",
    "#         print(f\"풍속 :{vec_temp} 방향 {wsd_temp}m/s\")\n",
    "        \n",
    "    template += f\"풍속 {vec_temp} 방향 {wsd_temp}m/s\"\n",
    "    print(template)"
   ]
  },
  {
   "cell_type": "code",
   "execution_count": 7,
   "id": "f4cccaaf",
   "metadata": {},
   "outputs": [
    {
     "name": "stdout",
     "output_type": "stream",
     "text": [
      "향후 일주일 내에 비 예보는 없습니다.\n"
     ]
    }
   ],
   "source": [
    "import requests\n",
    "import urllib.parse\n",
    "from datetime import datetime, timedelta\n",
    "import xml.etree.ElementTree as ET\n",
    "\n",
    "# 1) 사용자 설정\n",
    "service_key = \"SLnUCvSqwv%2FeT7pxQ2NFc2etMr8%2B7HLq1zXs6Djr1%2BXDUA%2F4YQvKK7C3nhGjIjOX0Vs42IoiIg%2FEQgHpcP371w%3D%3D\"  # ← 여기에 서비스키 입력\n",
    "nx, ny = 60, 127                     # ← 여기에 조회할 지점 X, Y 격자좌표 입력\n",
    "\n",
    "# 2) 서비스키 URL 인코딩 (guide 요구사항) :contentReference[oaicite:1]{index=1}\n",
    "encoded_key = urllib.parse.quote_plus(service_key)\n",
    "\n",
    "# 3) 최신 발표시각 계산\n",
    "def get_latest_base(dt):\n",
    "    slots = [2, 5, 8, 11, 14, 17, 20, 23]\n",
    "    hour = dt.hour\n",
    "    candidates = [h for h in slots if h <= hour]\n",
    "    if not candidates:\n",
    "        base_date = (dt - timedelta(days=1)).strftime(\"%Y%m%d\")\n",
    "        base_time = \"2300\"\n",
    "    else:\n",
    "        h = max(candidates)\n",
    "        base_date = dt.strftime(\"%Y%m%d\")\n",
    "        base_time = f\"{h:02d}00\"\n",
    "    return base_date, base_time\n",
    "\n",
    "now = datetime.now()  # Asia/Seoul 로컬타임\n",
    "base_date, base_time = get_latest_base(now)\n",
    "\n",
    "# 4) API 호출 (serviceKey는 이미 URL에 포함)\n",
    "base_url = (\n",
    "    \"http://apis.data.go.kr/1360000/\"\n",
    "    \"VilageFcstInfoService_2.0/getVilageFcst\"\n",
    "    f\"?serviceKey={encoded_key}\"\n",
    ")\n",
    "params = {\n",
    "    \"pageNo\": \"1\",\n",
    "    \"numOfRows\": \"1000\",\n",
    "    \"dataType\": \"JSON\",      # JSON 요청\n",
    "    \"base_date\": base_date,\n",
    "    \"base_time\": base_time,\n",
    "    \"nx\": nx,\n",
    "    \"ny\": ny\n",
    "}\n",
    "\n",
    "resp = requests.get(base_url, params=params)\n",
    "resp.raise_for_status()\n",
    "\n",
    "# 5) 응답 파싱: JSON 우선, 실패 시 XML\n",
    "try:\n",
    "    result = resp.json()\n",
    "    items = result[\"response\"][\"body\"][\"items\"][\"item\"]\n",
    "except ValueError:\n",
    "    # JSON 디코드 실패하면 XML로 파싱\n",
    "    root = ET.fromstring(resp.text)\n",
    "    # <item> 요소들을 모두 모아서 dict 형태로 처리\n",
    "    items = []\n",
    "    for item_el in root.findall(\".//item\"):\n",
    "        it = {child.tag: child.text for child in item_el}\n",
    "        items.append(it)\n",
    "\n",
    "# 6) ‘강수형태(PTY)’ 항목에서 비(0 이외) 수집\n",
    "rain_times = []\n",
    "for it in items:\n",
    "    if it.get(\"category\") == \"PTY\" and it.get(\"fcstValue\") not in (None, \"0\"):\n",
    "        dt_str = it[\"fcstDate\"] + it[\"fcstTime\"]\n",
    "        rain_times.append(datetime.strptime(dt_str, \"%Y%m%d%H%M\"))\n",
    "\n",
    "# 7) 결과 출력\n",
    "if not rain_times:\n",
    "    print(\"향후 일주일 내에 비 예보는 없습니다.\")\n",
    "else:\n",
    "    print(\"향후 일주일 내 비 예보 시점:\")\n",
    "    for t in sorted(set(rain_times)):\n",
    "        print(\"  -\", t.strftime(\"%Y-%m-%d %H:%M\"))\n"
   ]
  },
  {
   "cell_type": "code",
   "execution_count": 6,
   "id": "5c4ab0c3",
   "metadata": {},
   "outputs": [
    {
     "data": {
      "text/plain": [
       "<Response [200]>"
      ]
     },
     "execution_count": 6,
     "metadata": {},
     "output_type": "execute_result"
    }
   ],
   "source": [
    "resp"
   ]
  }
 ],
 "metadata": {
  "kernelspec": {
   "display_name": "project",
   "language": "python",
   "name": "python3"
  },
  "language_info": {
   "codemirror_mode": {
    "name": "ipython",
    "version": 3
   },
   "file_extension": ".py",
   "mimetype": "text/x-python",
   "name": "python",
   "nbconvert_exporter": "python",
   "pygments_lexer": "ipython3",
   "version": "3.13.1"
  }
 },
 "nbformat": 4,
 "nbformat_minor": 5
}
